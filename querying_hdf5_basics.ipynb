{
 "cells": [
  {
   "cell_type": "markdown",
   "metadata": {},
   "source": [
    "# eQTL catalogue with HDF5 and python (pandas and PyTables implementation)"
   ]
  },
  {
   "cell_type": "markdown",
   "metadata": {},
   "source": [
    "The python library [PyTables](https://www.pytables.org/index.html) is a python binding to the HDF library. HDF5 is a file format allowing one to access subsets of huge volumes of data very quickly. [Here](https://github.com/EBISPOT/SumStats/tree/eqtls) we have tools that convert .csv to .h5, index those files on specified fields, enabling the files accessed via complex queries. This notebook should show the basics, but also see the repo above where one can pip install some utilites to help access the files (_still in construction_).\n",
    "\n",
    "Requires:\n",
    "- `python=3.6`\n",
    "- `pandas=0.19.2`\n",
    "- `pytables=3.4.3`\n",
    "- `hdf5=1.10.2`\n",
    "\n",
    "Easiest way to do this is:\n",
    "- Clone the repository\n",
    "  - `git clone https://github.com/EBISPOT/SumStats.git`\n",
    "  - `cd SumStats`\n",
    "- Create conda environment (installs HDF5 lib and other dependencies)\n",
    "\t- `conda env create -f sumstats.yml`\n",
    "\t- `conda  activate  sumstats`\n",
    "- Run everything from within that environment\n",
    "- When you're finished, simply deactivate\n",
    "    - `conda deactivate`"
   ]
  },
  {
   "cell_type": "markdown",
   "metadata": {},
   "source": [
    "### Examples"
   ]
  },
  {
   "cell_type": "markdown",
   "metadata": {},
   "source": [
    "##### 1) Let's take a look at a file using a great pytables utility [`ptdump`](https://www.pytables.org/usersguide/utilities.html#ptdump)"
   ]
  },
  {
   "cell_type": "code",
   "execution_count": 10,
   "metadata": {},
   "outputs": [
    {
     "name": "stdout",
     "output_type": "stream",
     "text": [
      "/ (RootGroup) ''\n",
      "/GEUVADIS (Group) ''\n",
      "/GEUVADIS/table (Table(1000,)) ''\n",
      "  description := {\n",
      "  \"index\": Int64Col(shape=(), dflt=0, pos=0),\n",
      "  \"values_block_0\": Int64Col(shape=(2,), dflt=0, pos=1),\n",
      "  \"values_block_1\": Float64Col(shape=(4,), dflt=0.0, pos=2),\n",
      "  \"values_block_2\": StringCol(itemsize=5, shape=(1,), dflt=b'', pos=3),\n",
      "  \"molecular_trait_id\": StringCol(itemsize=255, shape=(), dflt=b'', pos=4),\n",
      "  \"chromosome\": StringCol(itemsize=1, shape=(), dflt=b'', pos=5),\n",
      "  \"position\": Int64Col(shape=(), dflt=0, pos=6),\n",
      "  \"pvalue\": Float64Col(shape=(), dflt=0.0, pos=7),\n",
      "  \"ref\": StringCol(itemsize=255, shape=(), dflt=b'', pos=8),\n",
      "  \"alt\": StringCol(itemsize=255, shape=(), dflt=b'', pos=9),\n",
      "  \"gene_id\": StringCol(itemsize=255, shape=(), dflt=b'', pos=10),\n",
      "  \"molecular_trait_object_id\": StringCol(itemsize=255, shape=(), dflt=b'', pos=11),\n",
      "  \"variant\": StringCol(itemsize=255, shape=(), dflt=b'', pos=12)}\n",
      "  byteorder := 'little'\n",
      "  chunkshape := (81,)\n",
      "  autoindex := True\n",
      "  colindexes := {\n",
      "    \"molecular_trait_id\": Index(6, medium, shuffle, zlib(1)).is_csi=False,\n",
      "    \"chromosome\": Index(6, medium, shuffle, zlib(1)).is_csi=False,\n",
      "    \"position\": Index(9, full, shuffle, zlib(1)).is_csi=True,\n",
      "    \"pvalue\": Index(6, medium, shuffle, zlib(1)).is_csi=False}\n"
     ]
    }
   ],
   "source": [
    "%%bash\n",
    "hdf=files/output/bystudy/1/file_LCL.nominal.sorted.head.h5 # path to your hdf\n",
    "ptdump -v $hdf"
   ]
  },
  {
   "cell_type": "markdown",
   "metadata": {},
   "source": [
    "The output from the above, shows us an output much like the HDF lib utility `h5dump`. It shows us the fields and of particular importance the `colindexes`, which we are the fields we can use to form complex queries."
   ]
  },
  {
   "cell_type": "markdown",
   "metadata": {},
   "source": [
    "##### 2) Read all data into a pandas dataframe using [pandas.HDFStore.select()](https://pandas.pydata.org/pandas-docs/stable/reference/api/pandas.HDFStore.select.html)"
   ]
  },
  {
   "cell_type": "code",
   "execution_count": 8,
   "metadata": {},
   "outputs": [
    {
     "name": "stdout",
     "output_type": "stream",
     "text": [
      "     pvalue   an   gene_id  r2  position alt      beta  \\\n",
      "0  0.398658  716  clu_2529 NaN     10177  AC -0.078357   \n",
      "1  0.953312  716  clu_2529 NaN     10177  AC -0.005483   \n",
      "2  0.891248  716  clu_2525 NaN     10177  AC  0.012683   \n",
      "3  0.505367  716  clu_2525 NaN     10177  AC  0.061232   \n",
      "4  0.527385  716  clu_2531 NaN     10177  AC  0.059108   \n",
      "\n",
      "         molecular_trait_id          variant  median_tpm  \\\n",
      "0  1:630476:634113:clu_2529  chr1_10177_A_AC         NaN   \n",
      "1  1:632019:634113:clu_2529  chr1_10177_A_AC         NaN   \n",
      "2  1:729955:732013:clu_2525  chr1_10177_A_AC         NaN   \n",
      "3  1:729955:732017:clu_2525  chr1_10177_A_AC         NaN   \n",
      "4  1:739024:739803:clu_2531  chr1_10177_A_AC         NaN   \n",
      "\n",
      "  molecular_trait_object_id       maf chromosome   ac   type ref  \n",
      "0                       NaN  0.406425          1  291  INDEL   A  \n",
      "1                       NaN  0.406425          1  291  INDEL   A  \n",
      "2                       NaN  0.406425          1  291  INDEL   A  \n",
      "3                       NaN  0.406425          1  291  INDEL   A  \n",
      "4                       NaN  0.406425          1  291  INDEL   A  \n"
     ]
    }
   ],
   "source": [
    "import pandas as pd\n",
    "\n",
    "hdf = \"files/output/bystudy/1/file_LCL.nominal.sorted.head.h5\" # path to hdf\n",
    "\n",
    "with pd.HDFStore(hdf, mode='r') as store:\n",
    "    key = store.keys()[0]\n",
    "    df = store.select(key)\n",
    "    \n",
    "    #Do what you like with the dataframe\n",
    "    \n",
    "    print(df.head())"
   ]
  },
  {
   "cell_type": "markdown",
   "metadata": {},
   "source": [
    "##### 3) Let's say we're only interested in rows with pvalues < 0.01"
   ]
  },
  {
   "cell_type": "code",
   "execution_count": 13,
   "metadata": {},
   "outputs": [
    {
     "name": "stdout",
     "output_type": "stream",
     "text": [
      "       pvalue   an   gene_id  r2  position alt      beta  \\\n",
      "364  0.006946  716  clu_2538 NaN     13110   A  0.452185   \n",
      "387  0.004229  716  clu_2543 NaN     13110   A -0.464828   \n",
      "388  0.007822  716  clu_2543 NaN     13110   A  0.435086   \n",
      "607  0.007159  716  clu_2538 NaN     13273   C -0.271604   \n",
      "674  0.004420  716  clu_2534 NaN     14464   T  0.286950   \n",
      "\n",
      "           molecular_trait_id         variant  median_tpm  \\\n",
      "364  1:844498:847654:clu_2538  chr1_13110_G_A         NaN   \n",
      "387  1:954082:955923:clu_2543  chr1_13110_G_A         NaN   \n",
      "388  1:954523:955923:clu_2543  chr1_13110_G_A         NaN   \n",
      "607  1:829104:851927:clu_2538  chr1_13273_G_C         NaN   \n",
      "674  1:774280:778284:clu_2534  chr1_14464_A_T         NaN   \n",
      "\n",
      "           molecular_trait_object_id       maf chromosome   ac type ref  \n",
      "364                  ENSG00000228794  0.053073          1   38  SNP   G  \n",
      "387                  ENSG00000188976  0.053073          1   38  SNP   G  \n",
      "388                  ENSG00000188976  0.053073          1   38  SNP   G  \n",
      "607                  ENSG00000228794  0.156425          1  112  SNP   G  \n",
      "674  ENSG00000228327;ENSG00000230092  0.162011          1  116  SNP   A  \n"
     ]
    }
   ],
   "source": [
    "import pandas as pd\n",
    "\n",
    "hdf = \"files/output/bystudy/1/file_LCL.nominal.sorted.head.h5\" # path to hdf\n",
    "\n",
    "query = \"pvalue < 0.01\"\n",
    "\n",
    "with pd.HDFStore(hdf, mode='r') as store:\n",
    "    key = store.keys()[0]\n",
    "    df = store.select(key, where=query)\n",
    "    \n",
    "    #Do what you like with the dataframe\n",
    "    \n",
    "    print(df.head())"
   ]
  },
  {
   "cell_type": "markdown",
   "metadata": {},
   "source": [
    "##### 4) We can make complex queries by concatenating conditions with '&' e.g. only rows with pvalues < 0.01 and position < 14000 (see more [here](http://pandas.pydata.org/pandas-docs/stable/user_guide/io.html#querying)): "
   ]
  },
  {
   "cell_type": "code",
   "execution_count": 21,
   "metadata": {},
   "outputs": [
    {
     "name": "stdout",
     "output_type": "stream",
     "text": [
      "       pvalue   an   gene_id  r2  position alt      beta  \\\n",
      "364  0.006946  716  clu_2538 NaN     13110   A  0.452185   \n",
      "387  0.004229  716  clu_2543 NaN     13110   A -0.464828   \n",
      "388  0.007822  716  clu_2543 NaN     13110   A  0.435086   \n",
      "607  0.007159  716  clu_2538 NaN     13273   C -0.271604   \n",
      "\n",
      "           molecular_trait_id         variant  median_tpm  \\\n",
      "364  1:844498:847654:clu_2538  chr1_13110_G_A         NaN   \n",
      "387  1:954082:955923:clu_2543  chr1_13110_G_A         NaN   \n",
      "388  1:954523:955923:clu_2543  chr1_13110_G_A         NaN   \n",
      "607  1:829104:851927:clu_2538  chr1_13273_G_C         NaN   \n",
      "\n",
      "    molecular_trait_object_id       maf chromosome   ac type ref  \n",
      "364           ENSG00000228794  0.053073          1   38  SNP   G  \n",
      "387           ENSG00000188976  0.053073          1   38  SNP   G  \n",
      "388           ENSG00000188976  0.053073          1   38  SNP   G  \n",
      "607           ENSG00000228794  0.156425          1  112  SNP   G  \n"
     ]
    }
   ],
   "source": [
    "import pandas as pd\n",
    "\n",
    "hdf = \"files/output/bystudy/1/file_LCL.nominal.sorted.head.h5\" # path to hdf\n",
    "\n",
    "query = \"pvalue < 0.01 & position < 14000\"\n",
    "\n",
    "with pd.HDFStore(hdf, mode='r') as store:\n",
    "    key = store.keys()[0]\n",
    "    df = store.select(key, where=query)\n",
    "    \n",
    "    #Do what you like with the dataframe\n",
    "    \n",
    "    print(df.head())"
   ]
  }
 ],
 "metadata": {
  "kernelspec": {
   "display_name": "Python 3",
   "language": "python",
   "name": "python3"
  },
  "language_info": {
   "codemirror_mode": {
    "name": "ipython",
    "version": 3
   },
   "file_extension": ".py",
   "mimetype": "text/x-python",
   "name": "python",
   "nbconvert_exporter": "python",
   "pygments_lexer": "ipython3",
   "version": "3.6.5"
  }
 },
 "nbformat": 4,
 "nbformat_minor": 2
}
